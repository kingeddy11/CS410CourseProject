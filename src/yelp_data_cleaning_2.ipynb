{
 "cells": [
  {
   "cell_type": "code",
   "execution_count": 1,
   "id": "32ecbe3f-ab1b-472f-ab69-8865aeec3437",
   "metadata": {},
   "outputs": [],
   "source": [
    "import os\n",
    "import pandas as pd\n",
    "import numpy as np\n",
    "import json\n",
    "import re\n",
    "import duckdb"
   ]
  },
  {
   "cell_type": "code",
   "execution_count": 2,
   "id": "49607488-c83b-4441-b320-8596a99d304d",
   "metadata": {},
   "outputs": [],
   "source": [
    "# Set working directory\n",
    "work_dir = os.path.join(os.getcwd(), \"../\")\n",
    "os.chdir(work_dir)"
   ]
  },
  {
   "cell_type": "code",
   "execution_count": 3,
   "id": "95a2261f-b475-45e4-a9bb-3be290f80a66",
   "metadata": {},
   "outputs": [],
   "source": [
    "# Reading in restaurants and cleaned user reviews datasets\n",
    "restaurants_df = pd.read_csv('data/yelp_restaurants_Phila_cleaned.csv')\n",
    "user_reviews_df = pd.read_csv('data/yelp_reviews_users_Phila_cleaned.csv')"
   ]
  },
  {
   "cell_type": "code",
   "execution_count": 4,
   "id": "48f0f733-a4a5-4255-b7b5-ab213a331ca1",
   "metadata": {},
   "outputs": [],
   "source": [
    "# Dropping columns that we don't plan on using for our analysis\n",
    "restaurants_df_clean = restaurants_df.drop(columns = ['BusinessAcceptsCreditCards', 'RestaurantsDelivery', 'RestaurantsTakeOut', 'BusinessParking', \\\n",
    "                                          'OutdoorSeating', 'WiFi', 'BikeParking', 'Caters', 'HasTV'])\n",
    "user_reviews_df_clean_fin = user_reviews_df.drop(columns = ['user_elite_years', 'useful_restaurant_review_count'])"
   ]
  },
  {
   "cell_type": "code",
   "execution_count": 5,
   "id": "b3e308d4-18fc-4df0-a182-ea6c2fae0556",
   "metadata": {},
   "outputs": [
    {
     "name": "stdout",
     "output_type": "stream",
     "text": [
      "restaurant_reviews_df columns: Index(['business_id', 'restaurant_name', 'address', 'city', 'state',\n",
      "       'postal_code', 'latitude', 'longitude', 'restaurant_review_count',\n",
      "       'is_open', 'categories', 'BusinessAcceptsCreditCards',\n",
      "       'RestaurantsPriceRange2', 'RestaurantsDelivery', 'RestaurantsTakeOut',\n",
      "       'BusinessParking', 'OutdoorSeating', 'WiFi', 'BikeParking',\n",
      "       'RestaurantsGoodForGroups', 'RestaurantsReservations', 'NoiseLevel',\n",
      "       'Caters', 'HasTV', 'Alcohol', 'Ambience', 'GoodForKids',\n",
      "       'RestaurantsAttire', 'GoodForMeal', 'Monday_is_open', 'Tuesday_is_open',\n",
      "       'Wednesday_is_open', 'Thursday_is_open', 'Friday_is_open',\n",
      "       'Saturday_is_open', 'Sunday_is_open', 'hours'],\n",
      "      dtype='object')\n",
      "user_reviews_df columns: Index(['business_id', 'restaurant_name', 'review_id', 'user_id', 'user_rating',\n",
      "       'useful_restaurant_review_count', 'review', 'review_date', 'user_name',\n",
      "       'user_review_count', 'user_average_rating', 'useful_user_review_count',\n",
      "       'user_elite_years'],\n",
      "      dtype='object')\n"
     ]
    }
   ],
   "source": [
    "print(\"restaurant_reviews_df columns:\", restaurants_df.columns)\n",
    "print(\"user_reviews_df columns:\", user_reviews_df.columns)"
   ]
  },
  {
   "cell_type": "code",
   "execution_count": 6,
   "id": "9d2e1013-63ca-4a6a-a40c-5cac39dcbb0e",
   "metadata": {},
   "outputs": [
    {
     "data": {
      "text/plain": [
       "business_id                  object\n",
       "restaurant_name              object\n",
       "address                      object\n",
       "city                         object\n",
       "state                        object\n",
       "postal_code                   int64\n",
       "latitude                    float64\n",
       "longitude                   float64\n",
       "restaurant_review_count       int64\n",
       "is_open                       int64\n",
       "categories                   object\n",
       "RestaurantsPriceRange2        int64\n",
       "RestaurantsGoodForGroups     object\n",
       "RestaurantsReservations      object\n",
       "NoiseLevel                   object\n",
       "Alcohol                      object\n",
       "Ambience                     object\n",
       "GoodForKids                  object\n",
       "RestaurantsAttire            object\n",
       "GoodForMeal                  object\n",
       "Monday_is_open                int64\n",
       "Tuesday_is_open               int64\n",
       "Wednesday_is_open             int64\n",
       "Thursday_is_open              int64\n",
       "Friday_is_open                int64\n",
       "Saturday_is_open              int64\n",
       "Sunday_is_open                int64\n",
       "hours                        object\n",
       "dtype: object"
      ]
     },
     "execution_count": 6,
     "metadata": {},
     "output_type": "execute_result"
    }
   ],
   "source": [
    "restaurants_df_clean.dtypes"
   ]
  },
  {
   "cell_type": "code",
   "execution_count": 7,
   "id": "ce843100-83df-4476-857f-72ebc5bd1e67",
   "metadata": {},
   "outputs": [],
   "source": [
    "# Cleaning NoiseLevel, Alcohol, and Ambience columns by removing strings that start with u' and single quotes\n",
    "restaurants_df_clean['NoiseLevel'] = restaurants_df_clean['NoiseLevel'].astype(str).apply(lambda x: re.sub(r\"^u'|'\", '', x))\n",
    "restaurants_df_clean['Alcohol'] = restaurants_df_clean['Alcohol'].astype(str).apply(lambda x: re.sub(r\"^u'|'\", '', x))\n",
    "restaurants_df_clean['RestaurantsAttire'] = restaurants_df_clean['RestaurantsAttire'].astype(str).apply(lambda x: re.sub(r\"^u'|'\", '', x))"
   ]
  },
  {
   "cell_type": "code",
   "execution_count": 8,
   "id": "b6eb64c4-7126-4b09-afdd-8f5235f5e859",
   "metadata": {},
   "outputs": [
    {
     "data": {
      "text/plain": [
       "NoiseLevel\n",
       "average      166\n",
       "loud          19\n",
       "quiet         11\n",
       "nan            3\n",
       "very_loud      1\n",
       "Name: count, dtype: int64"
      ]
     },
     "execution_count": 8,
     "metadata": {},
     "output_type": "execute_result"
    }
   ],
   "source": [
    "# Checking unique values in NoiseLevel column\n",
    "restaurants_df_clean['NoiseLevel'].value_counts()"
   ]
  },
  {
   "cell_type": "code",
   "execution_count": 9,
   "id": "3f9953ca-fb28-47c0-b97e-16c73e145b91",
   "metadata": {},
   "outputs": [
    {
     "data": {
      "text/plain": [
       "Alcohol\n",
       "none             99\n",
       "full_bar         87\n",
       "beer_and_wine    10\n",
       "nan               4\n",
       "Name: count, dtype: int64"
      ]
     },
     "execution_count": 9,
     "metadata": {},
     "output_type": "execute_result"
    }
   ],
   "source": [
    "# Checking unique values in Alcohol column\n",
    "restaurants_df_clean['Alcohol'].value_counts()"
   ]
  },
  {
   "cell_type": "code",
   "execution_count": 10,
   "id": "6ef67b15-eba2-4627-8f49-90764b984d2c",
   "metadata": {},
   "outputs": [
    {
     "data": {
      "text/plain": [
       "RestaurantsAttire\n",
       "casual    190\n",
       "dressy      5\n",
       "nan         5\n",
       "Name: count, dtype: int64"
      ]
     },
     "execution_count": 10,
     "metadata": {},
     "output_type": "execute_result"
    }
   ],
   "source": [
    "# Checking unique values in RestaurantsAttire column\n",
    "restaurants_df_clean['RestaurantsAttire'].value_counts()"
   ]
  },
  {
   "cell_type": "code",
   "execution_count": 11,
   "id": "209b4008-2805-4830-ba31-54bccde2e806",
   "metadata": {},
   "outputs": [],
   "source": [
    "## Cleaning Ambience and GoodForMeal column to prepare for unnesting\n",
    "# Function to convert a string to JSON formatted dictionary\n",
    "def convert_to_dict(string):\n",
    "    # Check if the string is empty\n",
    "    if not string:\n",
    "        return {}\n",
    "\n",
    "    # Replace u' with '\n",
    "    json_str = string.replace(\"u'\", \"'\")\n",
    "\n",
    "    # Replace single quotes with double quotes and None with null\n",
    "    json_str = json_str.replace(\"'\", '\"').replace(\"None\", \"null\")\n",
    "    \n",
    "    # Ensuring True and False values are in proper JSON format\n",
    "    json_str = re.sub(r'\\bTrue\\b', 'true', json_str)  # Convert True to true\n",
    "    json_str = re.sub(r'\\bFalse\\b', 'false', json_str)  # Convert False to false\n",
    "\n",
    "    try:\n",
    "        return json.loads(json_str)\n",
    "    except json.JSONDecodeError as e:\n",
    "        return {}\n",
    "\n",
    "# Apply the conversion\n",
    "restaurants_df_clean['Ambience'] = restaurants_df_clean['Ambience'].astype(str).apply(convert_to_dict)\n",
    "restaurants_df_clean['GoodForMeal'] = restaurants_df_clean['GoodForMeal'].astype(str).apply(convert_to_dict)"
   ]
  },
  {
   "cell_type": "code",
   "execution_count": 12,
   "id": "05bf2f50-e1e4-4199-aa98-8c86c1c1925d",
   "metadata": {},
   "outputs": [],
   "source": [
    "# Unnesting Ambience and GoodForMeal column\n",
    "restaurants_df_clean_ambience = pd.json_normalize(restaurants_df_clean['Ambience'])\n",
    "restaurants_df_clean_GoodForMeal = pd.json_normalize(restaurants_df_clean['GoodForMeal'])"
   ]
  },
  {
   "cell_type": "code",
   "execution_count": 13,
   "id": "862e6b96-4833-4028-ba43-1fb3ca42cf3b",
   "metadata": {},
   "outputs": [
    {
     "name": "stdout",
     "output_type": "stream",
     "text": [
      "    romantic intimate touristy hipster  divey classy trendy upscale casual\n",
      "0      False    False    False   False  False   True  False   False  False\n",
      "1      False    False    False   False  False   True  False   False   True\n",
      "2      False    False     None   False  False  False  False   False   True\n",
      "3      False    False    False   False  False   True   True   False  False\n",
      "4      False    False    False   False  False   True  False   False  False\n",
      "..       ...      ...      ...     ...    ...    ...    ...     ...    ...\n",
      "195    False    False    False   False   None  False  False   False   True\n",
      "196    False    False    False   False  False   True  False   False  False\n",
      "197     True     True    False   False  False   True   None   False   True\n",
      "198    False    False    False   False  False  False  False   False   True\n",
      "199     None     None     None    None  False   True   None    None   True\n",
      "\n",
      "[200 rows x 9 columns]\n",
      "       romantic  intimate  touristy  hipster  divey  classy  trendy  upscale  \\\n",
      "False       173       168       181      156    172      94     137      189   \n",
      "True         15        12         3       17      2      95      27        3   \n",
      "None          8        16        12       23     22       7      32        4   \n",
      "NaN           4         4         4        4      4       4       4        4   \n",
      "\n",
      "       casual  \n",
      "False      52  \n",
      "True      136  \n",
      "None        8  \n",
      "NaN         4  \n"
     ]
    }
   ],
   "source": [
    "# Observing columns after unnesting Ambience\n",
    "print(restaurants_df_clean_ambience)\n",
    "\n",
    "# Observing unique value counts for each column\n",
    "print(restaurants_df_clean_ambience.apply(lambda x: x.value_counts(dropna = False)))"
   ]
  },
  {
   "cell_type": "code",
   "execution_count": 14,
   "id": "f6f39c5e-0ae3-43e4-a562-0303af2eca82",
   "metadata": {},
   "outputs": [
    {
     "name": "stdout",
     "output_type": "stream",
     "text": [
      "    dessert latenight  lunch dinner brunch breakfast\n",
      "0      None     False   True   True   True      None\n",
      "1     False     False   None  False   True      True\n",
      "2     False     False   True   None  False     False\n",
      "3      None     False  False   True  False     False\n",
      "4      None     False  False   True  False     False\n",
      "..      ...       ...    ...    ...    ...       ...\n",
      "195   False     False   None   True  False     False\n",
      "196    True      None   None   True   None      None\n",
      "197    None      None   None   True   None      None\n",
      "198   False     False  False   True  False     False\n",
      "199   False     False  False  False  False     False\n",
      "\n",
      "[200 rows x 6 columns]\n",
      "       dessert  latenight  lunch  dinner  brunch  breakfast\n",
      "False      151        126     40      33     119        144\n",
      "None        31         43     47      13      45         25\n",
      "True        10         23    105     146      28         23\n",
      "NaN          8          8      8       8       8          8\n"
     ]
    }
   ],
   "source": [
    "# Observing columns after unnesting GoodForMeal\n",
    "print(restaurants_df_clean_GoodForMeal)\n",
    "\n",
    "# Observing unique value counts for each column\n",
    "print(restaurants_df_clean_GoodForMeal.apply(lambda x: x.value_counts(dropna = False)))"
   ]
  },
  {
   "cell_type": "code",
   "execution_count": 15,
   "id": "fbef9761-1038-4afe-ace7-5b75969375d3",
   "metadata": {},
   "outputs": [],
   "source": [
    "# Replacing None values into NA values\n",
    "restaurants_df_clean_ambience = restaurants_df_clean_ambience.replace({None: np.nan})\n",
    "restaurants_df_clean_GoodForMeal = restaurants_df_clean_GoodForMeal.replace({None: np.nan})\n",
    "\n",
    "# Convert all columns to boolean type\n",
    "restaurants_df_clean_ambience = restaurants_df_clean_ambience.astype('boolean')\n",
    "restaurants_df_clean_GoodForMeal = restaurants_df_clean_GoodForMeal.astype('boolean')"
   ]
  },
  {
   "cell_type": "code",
   "execution_count": 16,
   "id": "ee6ef02e-7989-418b-8af6-12f6235cbb0d",
   "metadata": {},
   "outputs": [],
   "source": [
    "# merging restaurants_df_clean, restaurants_df_clean_ambience, restaurants_df_clean_GoodForMeal\n",
    "restaurants_df_clean_fin = pd.concat([restaurants_df_clean, restaurants_df_clean_ambience], axis = 1).drop(columns = 'Ambience')\n",
    "restaurants_df_clean_fin = pd.concat([restaurants_df_clean_fin, restaurants_df_clean_GoodForMeal], axis = 1).drop(columns = 'GoodForMeal')"
   ]
  },
  {
   "cell_type": "code",
   "execution_count": 17,
   "id": "954fe4e1-d0c5-41ad-8383-16f825857dea",
   "metadata": {},
   "outputs": [],
   "source": [
    "# Converting other boolean-like columns to boolean type\n",
    "restaurants_df_clean_fin['RestaurantsGoodForGroups'] = restaurants_df_clean_fin['RestaurantsGoodForGroups'].astype('boolean')\n",
    "restaurants_df_clean_fin['RestaurantsReservations'] = restaurants_df_clean_fin['RestaurantsReservations'].astype('boolean')\n",
    "restaurants_df_clean_fin['GoodForKids'] = restaurants_df_clean_fin['GoodForKids'].astype('boolean')"
   ]
  },
  {
   "cell_type": "code",
   "execution_count": 18,
   "id": "3641b844-6290-41b0-9c5f-8fdb2e98a252",
   "metadata": {},
   "outputs": [],
   "source": [
    "# Adding back in stars column to the restaurants_df_clean_fin as it was accidentally not included\n",
    "# Create DuckDB connection\n",
    "con = duckdb.connect()\n",
    "\n",
    "# Loading business data\n",
    "con.sql(\"CREATE TABLE business AS SELECT * FROM read_json_auto('yelp_data/yelp_academic_dataset_business.json')\")\n",
    "stars_df = con.sql(\"SELECT business_id, stars FROM business\").fetchdf()\n",
    "\n",
    "# grabbing all business_ids that are in restaurants_df_clean_fin\n",
    "stars_df = stars_df[stars_df['business_id'].isin(restaurants_df_clean_fin['business_id'])].rename(columns = {'stars': 'restaurant_rating'})\n",
    "\n",
    "# merging stars_df into restaurants_df_clean_fin\n",
    "restaurants_df_clean_fin = pd.merge(restaurants_df_clean_fin, stars_df, how = 'left', on = 'business_id')\n"
   ]
  },
  {
   "cell_type": "code",
   "execution_count": 19,
   "id": "68e16773-8538-4171-800f-40ee46f04f6f",
   "metadata": {},
   "outputs": [
    {
     "data": {
      "text/plain": [
       "Index(['business_id', 'restaurant_name', 'address', 'city', 'state',\n",
       "       'postal_code', 'latitude', 'longitude', 'restaurant_review_count',\n",
       "       'is_open', 'categories', 'RestaurantsPriceRange2',\n",
       "       'RestaurantsGoodForGroups', 'RestaurantsReservations', 'NoiseLevel',\n",
       "       'Alcohol', 'GoodForKids', 'RestaurantsAttire', 'Monday_is_open',\n",
       "       'Tuesday_is_open', 'Wednesday_is_open', 'Thursday_is_open',\n",
       "       'Friday_is_open', 'Saturday_is_open', 'Sunday_is_open', 'hours',\n",
       "       'romantic', 'intimate', 'touristy', 'hipster', 'divey', 'classy',\n",
       "       'trendy', 'upscale', 'casual', 'dessert', 'latenight', 'lunch',\n",
       "       'dinner', 'brunch', 'breakfast', 'restaurant_rating'],\n",
       "      dtype='object')"
      ]
     },
     "execution_count": 19,
     "metadata": {},
     "output_type": "execute_result"
    }
   ],
   "source": [
    "restaurants_df_clean_fin.columns"
   ]
  },
  {
   "cell_type": "code",
   "execution_count": 20,
   "id": "fcef530d-9e2d-44b9-aa92-68408dbb8fec",
   "metadata": {},
   "outputs": [],
   "source": [
    "# Writing out fully cleaned final datasets\n",
    "restaurants_df_clean_fin.to_csv('data/yelp_restaurants_Phila_final.csv', index = False)\n",
    "user_reviews_df_clean_fin.to_csv('data/yelp_reviews_users_Phila_final.csv', index = False)"
   ]
  }
 ],
 "metadata": {
  "kernelspec": {
   "display_name": "Python 3 (ipykernel)",
   "language": "python",
   "name": "python3"
  },
  "language_info": {
   "codemirror_mode": {
    "name": "ipython",
    "version": 3
   },
   "file_extension": ".py",
   "mimetype": "text/x-python",
   "name": "python",
   "nbconvert_exporter": "python",
   "pygments_lexer": "ipython3",
   "version": "3.8.20"
  }
 },
 "nbformat": 4,
 "nbformat_minor": 5
}
